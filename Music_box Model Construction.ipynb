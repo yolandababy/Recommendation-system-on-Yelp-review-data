{
 "cells": [
  {
   "cell_type": "markdown",
   "metadata": {},
   "source": [
    "# Model Construction"
   ]
  },
  {
   "cell_type": "code",
   "execution_count": 1,
   "metadata": {
    "collapsed": true
   },
   "outputs": [],
   "source": [
    "import pandas as pd\n",
    "import numpy as np"
   ]
  },
  {
   "cell_type": "markdown",
   "metadata": {},
   "source": [
    "### Use the data set with generated features as the input for model construction"
   ]
  },
  {
   "cell_type": "code",
   "execution_count": 108,
   "metadata": {
    "collapsed": true,
    "scrolled": true
   },
   "outputs": [],
   "source": [
    "df=pd.read_csv('play_df.csv',encoding='utf-8')"
   ]
  },
  {
   "cell_type": "code",
   "execution_count": 83,
   "metadata": {},
   "outputs": [
    {
     "data": {
      "text/html": [
       "<div>\n",
       "<style>\n",
       "    .dataframe thead tr:only-child th {\n",
       "        text-align: right;\n",
       "    }\n",
       "\n",
       "    .dataframe thead th {\n",
       "        text-align: left;\n",
       "    }\n",
       "\n",
       "    .dataframe tbody tr th {\n",
       "        vertical-align: top;\n",
       "    }\n",
       "</style>\n",
       "<table border=\"1\" class=\"dataframe\">\n",
       "  <thead>\n",
       "    <tr style=\"text-align: right;\">\n",
       "      <th></th>\n",
       "      <th>uid</th>\n",
       "      <th>label</th>\n",
       "      <th>win1</th>\n",
       "      <th>win2</th>\n",
       "      <th>win3</th>\n",
       "      <th>win4</th>\n",
       "      <th>win5</th>\n",
       "      <th>device</th>\n",
       "      <th>play_ratio</th>\n",
       "      <th>total_play_time</th>\n",
       "      <th>...</th>\n",
       "      <th>play_1d_ov_7d</th>\n",
       "      <th>play_1d_ov_14d</th>\n",
       "      <th>play_1d_ov_23d</th>\n",
       "      <th>play_3d_ov_7d</th>\n",
       "      <th>play_3d_ov_14d</th>\n",
       "      <th>play_3d_ov_23d</th>\n",
       "      <th>play_7d_ov_14d</th>\n",
       "      <th>play_7d_ov_23d</th>\n",
       "      <th>play_14d_ov_23d</th>\n",
       "      <th>days_since_last_play</th>\n",
       "    </tr>\n",
       "  </thead>\n",
       "  <tbody>\n",
       "    <tr>\n",
       "      <th>0</th>\n",
       "      <td>168551323</td>\n",
       "      <td>1</td>\n",
       "      <td>15.0</td>\n",
       "      <td>38.0</td>\n",
       "      <td>90.0</td>\n",
       "      <td>164.0</td>\n",
       "      <td>291</td>\n",
       "      <td>ar</td>\n",
       "      <td>0.866174</td>\n",
       "      <td>1107.816667</td>\n",
       "      <td>...</td>\n",
       "      <td>0.166667</td>\n",
       "      <td>0.091463</td>\n",
       "      <td>0.051546</td>\n",
       "      <td>0.422222</td>\n",
       "      <td>0.231707</td>\n",
       "      <td>0.130584</td>\n",
       "      <td>0.548780</td>\n",
       "      <td>0.309278</td>\n",
       "      <td>0.563574</td>\n",
       "      <td>0</td>\n",
       "    </tr>\n",
       "    <tr>\n",
       "      <th>1</th>\n",
       "      <td>168542680</td>\n",
       "      <td>0</td>\n",
       "      <td>30.0</td>\n",
       "      <td>90.0</td>\n",
       "      <td>410.0</td>\n",
       "      <td>622.0</td>\n",
       "      <td>942</td>\n",
       "      <td>ar</td>\n",
       "      <td>0.623113</td>\n",
       "      <td>2373.466667</td>\n",
       "      <td>...</td>\n",
       "      <td>0.073171</td>\n",
       "      <td>0.048232</td>\n",
       "      <td>0.031847</td>\n",
       "      <td>0.219512</td>\n",
       "      <td>0.144695</td>\n",
       "      <td>0.095541</td>\n",
       "      <td>0.659164</td>\n",
       "      <td>0.435244</td>\n",
       "      <td>0.660297</td>\n",
       "      <td>0</td>\n",
       "    </tr>\n",
       "    <tr>\n",
       "      <th>2</th>\n",
       "      <td>168551542</td>\n",
       "      <td>1</td>\n",
       "      <td>0.0</td>\n",
       "      <td>0.0</td>\n",
       "      <td>0.0</td>\n",
       "      <td>0.0</td>\n",
       "      <td>90</td>\n",
       "      <td>ar</td>\n",
       "      <td>0.937525</td>\n",
       "      <td>351.083333</td>\n",
       "      <td>...</td>\n",
       "      <td>0.000000</td>\n",
       "      <td>0.000000</td>\n",
       "      <td>0.000000</td>\n",
       "      <td>0.000000</td>\n",
       "      <td>0.000000</td>\n",
       "      <td>0.000000</td>\n",
       "      <td>0.000000</td>\n",
       "      <td>0.000000</td>\n",
       "      <td>0.000000</td>\n",
       "      <td>17</td>\n",
       "    </tr>\n",
       "    <tr>\n",
       "      <th>3</th>\n",
       "      <td>168549948</td>\n",
       "      <td>1</td>\n",
       "      <td>0.0</td>\n",
       "      <td>0.0</td>\n",
       "      <td>0.0</td>\n",
       "      <td>0.0</td>\n",
       "      <td>551</td>\n",
       "      <td>ar</td>\n",
       "      <td>0.261726</td>\n",
       "      <td>595.100000</td>\n",
       "      <td>...</td>\n",
       "      <td>0.000000</td>\n",
       "      <td>0.000000</td>\n",
       "      <td>0.000000</td>\n",
       "      <td>0.000000</td>\n",
       "      <td>0.000000</td>\n",
       "      <td>0.000000</td>\n",
       "      <td>0.000000</td>\n",
       "      <td>0.000000</td>\n",
       "      <td>0.000000</td>\n",
       "      <td>17</td>\n",
       "    </tr>\n",
       "    <tr>\n",
       "      <th>4</th>\n",
       "      <td>168551120</td>\n",
       "      <td>1</td>\n",
       "      <td>0.0</td>\n",
       "      <td>0.0</td>\n",
       "      <td>0.0</td>\n",
       "      <td>24.0</td>\n",
       "      <td>90</td>\n",
       "      <td>ar</td>\n",
       "      <td>0.672008</td>\n",
       "      <td>250.566667</td>\n",
       "      <td>...</td>\n",
       "      <td>0.000000</td>\n",
       "      <td>0.000000</td>\n",
       "      <td>0.000000</td>\n",
       "      <td>0.000000</td>\n",
       "      <td>0.000000</td>\n",
       "      <td>0.000000</td>\n",
       "      <td>0.000000</td>\n",
       "      <td>0.000000</td>\n",
       "      <td>0.266667</td>\n",
       "      <td>11</td>\n",
       "    </tr>\n",
       "  </tbody>\n",
       "</table>\n",
       "<p>5 rows × 22 columns</p>\n",
       "</div>"
      ],
      "text/plain": [
       "         uid  label  win1  win2   win3   win4  win5 device  play_ratio  \\\n",
       "0  168551323      1  15.0  38.0   90.0  164.0   291     ar    0.866174   \n",
       "1  168542680      0  30.0  90.0  410.0  622.0   942     ar    0.623113   \n",
       "2  168551542      1   0.0   0.0    0.0    0.0    90     ar    0.937525   \n",
       "3  168549948      1   0.0   0.0    0.0    0.0   551     ar    0.261726   \n",
       "4  168551120      1   0.0   0.0    0.0   24.0    90     ar    0.672008   \n",
       "\n",
       "   total_play_time          ...           play_1d_ov_7d  play_1d_ov_14d  \\\n",
       "0      1107.816667          ...                0.166667        0.091463   \n",
       "1      2373.466667          ...                0.073171        0.048232   \n",
       "2       351.083333          ...                0.000000        0.000000   \n",
       "3       595.100000          ...                0.000000        0.000000   \n",
       "4       250.566667          ...                0.000000        0.000000   \n",
       "\n",
       "   play_1d_ov_23d  play_3d_ov_7d  play_3d_ov_14d  play_3d_ov_23d  \\\n",
       "0        0.051546       0.422222        0.231707        0.130584   \n",
       "1        0.031847       0.219512        0.144695        0.095541   \n",
       "2        0.000000       0.000000        0.000000        0.000000   \n",
       "3        0.000000       0.000000        0.000000        0.000000   \n",
       "4        0.000000       0.000000        0.000000        0.000000   \n",
       "\n",
       "   play_7d_ov_14d  play_7d_ov_23d  play_14d_ov_23d  days_since_last_play  \n",
       "0        0.548780        0.309278         0.563574                     0  \n",
       "1        0.659164        0.435244         0.660297                     0  \n",
       "2        0.000000        0.000000         0.000000                    17  \n",
       "3        0.000000        0.000000         0.000000                    17  \n",
       "4        0.000000        0.000000         0.266667                    11  \n",
       "\n",
       "[5 rows x 22 columns]"
      ]
     },
     "execution_count": 83,
     "metadata": {},
     "output_type": "execute_result"
    }
   ],
   "source": [
    "df.head()"
   ]
  },
  {
   "cell_type": "code",
   "execution_count": 84,
   "metadata": {},
   "outputs": [
    {
     "data": {
      "text/html": [
       "<div>\n",
       "<style>\n",
       "    .dataframe thead tr:only-child th {\n",
       "        text-align: right;\n",
       "    }\n",
       "\n",
       "    .dataframe thead th {\n",
       "        text-align: left;\n",
       "    }\n",
       "\n",
       "    .dataframe tbody tr th {\n",
       "        vertical-align: top;\n",
       "    }\n",
       "</style>\n",
       "<table border=\"1\" class=\"dataframe\">\n",
       "  <thead>\n",
       "    <tr style=\"text-align: right;\">\n",
       "      <th></th>\n",
       "      <th>label</th>\n",
       "      <th>win1</th>\n",
       "      <th>win2</th>\n",
       "      <th>win3</th>\n",
       "      <th>win4</th>\n",
       "      <th>win5</th>\n",
       "      <th>device</th>\n",
       "      <th>play_ratio</th>\n",
       "      <th>total_play_time</th>\n",
       "      <th>total_play_day</th>\n",
       "      <th>...</th>\n",
       "      <th>play_1d_ov_7d</th>\n",
       "      <th>play_1d_ov_14d</th>\n",
       "      <th>play_1d_ov_23d</th>\n",
       "      <th>play_3d_ov_7d</th>\n",
       "      <th>play_3d_ov_14d</th>\n",
       "      <th>play_3d_ov_23d</th>\n",
       "      <th>play_7d_ov_14d</th>\n",
       "      <th>play_7d_ov_23d</th>\n",
       "      <th>play_14d_ov_23d</th>\n",
       "      <th>days_since_last_play</th>\n",
       "    </tr>\n",
       "  </thead>\n",
       "  <tbody>\n",
       "    <tr>\n",
       "      <th>0</th>\n",
       "      <td>1</td>\n",
       "      <td>15.0</td>\n",
       "      <td>38.0</td>\n",
       "      <td>90.0</td>\n",
       "      <td>164.0</td>\n",
       "      <td>291</td>\n",
       "      <td>ar</td>\n",
       "      <td>0.866174</td>\n",
       "      <td>1107.816667</td>\n",
       "      <td>20</td>\n",
       "      <td>...</td>\n",
       "      <td>0.166667</td>\n",
       "      <td>0.091463</td>\n",
       "      <td>0.051546</td>\n",
       "      <td>0.422222</td>\n",
       "      <td>0.231707</td>\n",
       "      <td>0.130584</td>\n",
       "      <td>0.548780</td>\n",
       "      <td>0.309278</td>\n",
       "      <td>0.563574</td>\n",
       "      <td>0</td>\n",
       "    </tr>\n",
       "    <tr>\n",
       "      <th>1</th>\n",
       "      <td>0</td>\n",
       "      <td>30.0</td>\n",
       "      <td>90.0</td>\n",
       "      <td>410.0</td>\n",
       "      <td>622.0</td>\n",
       "      <td>942</td>\n",
       "      <td>ar</td>\n",
       "      <td>0.623113</td>\n",
       "      <td>2373.466667</td>\n",
       "      <td>20</td>\n",
       "      <td>...</td>\n",
       "      <td>0.073171</td>\n",
       "      <td>0.048232</td>\n",
       "      <td>0.031847</td>\n",
       "      <td>0.219512</td>\n",
       "      <td>0.144695</td>\n",
       "      <td>0.095541</td>\n",
       "      <td>0.659164</td>\n",
       "      <td>0.435244</td>\n",
       "      <td>0.660297</td>\n",
       "      <td>0</td>\n",
       "    </tr>\n",
       "    <tr>\n",
       "      <th>2</th>\n",
       "      <td>1</td>\n",
       "      <td>0.0</td>\n",
       "      <td>0.0</td>\n",
       "      <td>0.0</td>\n",
       "      <td>0.0</td>\n",
       "      <td>90</td>\n",
       "      <td>ar</td>\n",
       "      <td>0.937525</td>\n",
       "      <td>351.083333</td>\n",
       "      <td>4</td>\n",
       "      <td>...</td>\n",
       "      <td>0.000000</td>\n",
       "      <td>0.000000</td>\n",
       "      <td>0.000000</td>\n",
       "      <td>0.000000</td>\n",
       "      <td>0.000000</td>\n",
       "      <td>0.000000</td>\n",
       "      <td>0.000000</td>\n",
       "      <td>0.000000</td>\n",
       "      <td>0.000000</td>\n",
       "      <td>17</td>\n",
       "    </tr>\n",
       "    <tr>\n",
       "      <th>3</th>\n",
       "      <td>1</td>\n",
       "      <td>0.0</td>\n",
       "      <td>0.0</td>\n",
       "      <td>0.0</td>\n",
       "      <td>0.0</td>\n",
       "      <td>551</td>\n",
       "      <td>ar</td>\n",
       "      <td>0.261726</td>\n",
       "      <td>595.100000</td>\n",
       "      <td>5</td>\n",
       "      <td>...</td>\n",
       "      <td>0.000000</td>\n",
       "      <td>0.000000</td>\n",
       "      <td>0.000000</td>\n",
       "      <td>0.000000</td>\n",
       "      <td>0.000000</td>\n",
       "      <td>0.000000</td>\n",
       "      <td>0.000000</td>\n",
       "      <td>0.000000</td>\n",
       "      <td>0.000000</td>\n",
       "      <td>17</td>\n",
       "    </tr>\n",
       "    <tr>\n",
       "      <th>4</th>\n",
       "      <td>1</td>\n",
       "      <td>0.0</td>\n",
       "      <td>0.0</td>\n",
       "      <td>0.0</td>\n",
       "      <td>24.0</td>\n",
       "      <td>90</td>\n",
       "      <td>ar</td>\n",
       "      <td>0.672008</td>\n",
       "      <td>250.566667</td>\n",
       "      <td>11</td>\n",
       "      <td>...</td>\n",
       "      <td>0.000000</td>\n",
       "      <td>0.000000</td>\n",
       "      <td>0.000000</td>\n",
       "      <td>0.000000</td>\n",
       "      <td>0.000000</td>\n",
       "      <td>0.000000</td>\n",
       "      <td>0.000000</td>\n",
       "      <td>0.000000</td>\n",
       "      <td>0.266667</td>\n",
       "      <td>11</td>\n",
       "    </tr>\n",
       "  </tbody>\n",
       "</table>\n",
       "<p>5 rows × 21 columns</p>\n",
       "</div>"
      ],
      "text/plain": [
       "   label  win1  win2   win3   win4  win5 device  play_ratio  total_play_time  \\\n",
       "0      1  15.0  38.0   90.0  164.0   291     ar    0.866174      1107.816667   \n",
       "1      0  30.0  90.0  410.0  622.0   942     ar    0.623113      2373.466667   \n",
       "2      1   0.0   0.0    0.0    0.0    90     ar    0.937525       351.083333   \n",
       "3      1   0.0   0.0    0.0    0.0   551     ar    0.261726       595.100000   \n",
       "4      1   0.0   0.0    0.0   24.0    90     ar    0.672008       250.566667   \n",
       "\n",
       "   total_play_day          ...           play_1d_ov_7d  play_1d_ov_14d  \\\n",
       "0              20          ...                0.166667        0.091463   \n",
       "1              20          ...                0.073171        0.048232   \n",
       "2               4          ...                0.000000        0.000000   \n",
       "3               5          ...                0.000000        0.000000   \n",
       "4              11          ...                0.000000        0.000000   \n",
       "\n",
       "   play_1d_ov_23d  play_3d_ov_7d  play_3d_ov_14d  play_3d_ov_23d  \\\n",
       "0        0.051546       0.422222        0.231707        0.130584   \n",
       "1        0.031847       0.219512        0.144695        0.095541   \n",
       "2        0.000000       0.000000        0.000000        0.000000   \n",
       "3        0.000000       0.000000        0.000000        0.000000   \n",
       "4        0.000000       0.000000        0.000000        0.000000   \n",
       "\n",
       "   play_7d_ov_14d  play_7d_ov_23d  play_14d_ov_23d  days_since_last_play  \n",
       "0        0.548780        0.309278         0.563574                     0  \n",
       "1        0.659164        0.435244         0.660297                     0  \n",
       "2        0.000000        0.000000         0.000000                    17  \n",
       "3        0.000000        0.000000         0.000000                    17  \n",
       "4        0.000000        0.000000         0.266667                    11  \n",
       "\n",
       "[5 rows x 21 columns]"
      ]
     },
     "execution_count": 84,
     "metadata": {},
     "output_type": "execute_result"
    }
   ],
   "source": [
    "df_feature=df.drop('uid',axis=1)\n",
    "df_feature.head()"
   ]
  },
  {
   "cell_type": "code",
   "execution_count": 85,
   "metadata": {},
   "outputs": [
    {
     "data": {
      "text/plain": [
       "label                     int64\n",
       "win1                    float64\n",
       "win2                    float64\n",
       "win3                    float64\n",
       "win4                    float64\n",
       "win5                      int64\n",
       "device                   object\n",
       "play_ratio              float64\n",
       "total_play_time         float64\n",
       "total_play_day            int64\n",
       "play_1d_ov_3d           float64\n",
       "play_1d_ov_7d           float64\n",
       "play_1d_ov_14d          float64\n",
       "play_1d_ov_23d          float64\n",
       "play_3d_ov_7d           float64\n",
       "play_3d_ov_14d          float64\n",
       "play_3d_ov_23d          float64\n",
       "play_7d_ov_14d          float64\n",
       "play_7d_ov_23d          float64\n",
       "play_14d_ov_23d         float64\n",
       "days_since_last_play      int64\n",
       "dtype: object"
      ]
     },
     "execution_count": 85,
     "metadata": {},
     "output_type": "execute_result"
    }
   ],
   "source": [
    "df_feature.dtypes"
   ]
  },
  {
   "cell_type": "code",
   "execution_count": 86,
   "metadata": {
    "collapsed": true
   },
   "outputs": [],
   "source": [
    "# change label and device to categorical variable\n",
    "df_feature.label=df_feature.label.astype('category')\n",
    "df_feature.device=df_feature.device.astype('category')"
   ]
  },
  {
   "cell_type": "code",
   "execution_count": 87,
   "metadata": {
    "scrolled": true
   },
   "outputs": [
    {
     "data": {
      "text/plain": [
       "label                   category\n",
       "win1                     float64\n",
       "win2                     float64\n",
       "win3                     float64\n",
       "win4                     float64\n",
       "win5                       int64\n",
       "device                  category\n",
       "play_ratio               float64\n",
       "total_play_time          float64\n",
       "total_play_day             int64\n",
       "play_1d_ov_3d            float64\n",
       "play_1d_ov_7d            float64\n",
       "play_1d_ov_14d           float64\n",
       "play_1d_ov_23d           float64\n",
       "play_3d_ov_7d            float64\n",
       "play_3d_ov_14d           float64\n",
       "play_3d_ov_23d           float64\n",
       "play_7d_ov_14d           float64\n",
       "play_7d_ov_23d           float64\n",
       "play_14d_ov_23d          float64\n",
       "days_since_last_play       int64\n",
       "dtype: object"
      ]
     },
     "execution_count": 87,
     "metadata": {},
     "output_type": "execute_result"
    }
   ],
   "source": [
    "df_feature.dtypes"
   ]
  },
  {
   "cell_type": "code",
   "execution_count": 88,
   "metadata": {},
   "outputs": [
    {
     "data": {
      "text/html": [
       "<div>\n",
       "<style>\n",
       "    .dataframe thead tr:only-child th {\n",
       "        text-align: right;\n",
       "    }\n",
       "\n",
       "    .dataframe thead th {\n",
       "        text-align: left;\n",
       "    }\n",
       "\n",
       "    .dataframe tbody tr th {\n",
       "        vertical-align: top;\n",
       "    }\n",
       "</style>\n",
       "<table border=\"1\" class=\"dataframe\">\n",
       "  <thead>\n",
       "    <tr style=\"text-align: right;\">\n",
       "      <th></th>\n",
       "      <th>label</th>\n",
       "      <th>win1</th>\n",
       "      <th>win2</th>\n",
       "      <th>win3</th>\n",
       "      <th>win4</th>\n",
       "      <th>win5</th>\n",
       "      <th>play_ratio</th>\n",
       "      <th>total_play_time</th>\n",
       "      <th>total_play_day</th>\n",
       "      <th>play_1d_ov_3d</th>\n",
       "      <th>play_1d_ov_7d</th>\n",
       "      <th>play_1d_ov_14d</th>\n",
       "      <th>play_1d_ov_23d</th>\n",
       "      <th>play_3d_ov_7d</th>\n",
       "      <th>play_3d_ov_14d</th>\n",
       "      <th>play_3d_ov_23d</th>\n",
       "      <th>play_7d_ov_14d</th>\n",
       "      <th>play_7d_ov_23d</th>\n",
       "      <th>play_14d_ov_23d</th>\n",
       "      <th>days_since_last_play</th>\n",
       "    </tr>\n",
       "  </thead>\n",
       "  <tbody>\n",
       "    <tr>\n",
       "      <th>0</th>\n",
       "      <td>1</td>\n",
       "      <td>15.0</td>\n",
       "      <td>38.0</td>\n",
       "      <td>90.0</td>\n",
       "      <td>164.0</td>\n",
       "      <td>291</td>\n",
       "      <td>0.866174</td>\n",
       "      <td>1107.816667</td>\n",
       "      <td>20</td>\n",
       "      <td>0.394737</td>\n",
       "      <td>0.166667</td>\n",
       "      <td>0.091463</td>\n",
       "      <td>0.051546</td>\n",
       "      <td>0.422222</td>\n",
       "      <td>0.231707</td>\n",
       "      <td>0.130584</td>\n",
       "      <td>0.548780</td>\n",
       "      <td>0.309278</td>\n",
       "      <td>0.563574</td>\n",
       "      <td>0</td>\n",
       "    </tr>\n",
       "    <tr>\n",
       "      <th>1</th>\n",
       "      <td>0</td>\n",
       "      <td>30.0</td>\n",
       "      <td>90.0</td>\n",
       "      <td>410.0</td>\n",
       "      <td>622.0</td>\n",
       "      <td>942</td>\n",
       "      <td>0.623113</td>\n",
       "      <td>2373.466667</td>\n",
       "      <td>20</td>\n",
       "      <td>0.333333</td>\n",
       "      <td>0.073171</td>\n",
       "      <td>0.048232</td>\n",
       "      <td>0.031847</td>\n",
       "      <td>0.219512</td>\n",
       "      <td>0.144695</td>\n",
       "      <td>0.095541</td>\n",
       "      <td>0.659164</td>\n",
       "      <td>0.435244</td>\n",
       "      <td>0.660297</td>\n",
       "      <td>0</td>\n",
       "    </tr>\n",
       "    <tr>\n",
       "      <th>2</th>\n",
       "      <td>1</td>\n",
       "      <td>0.0</td>\n",
       "      <td>0.0</td>\n",
       "      <td>0.0</td>\n",
       "      <td>0.0</td>\n",
       "      <td>90</td>\n",
       "      <td>0.937525</td>\n",
       "      <td>351.083333</td>\n",
       "      <td>4</td>\n",
       "      <td>0.000000</td>\n",
       "      <td>0.000000</td>\n",
       "      <td>0.000000</td>\n",
       "      <td>0.000000</td>\n",
       "      <td>0.000000</td>\n",
       "      <td>0.000000</td>\n",
       "      <td>0.000000</td>\n",
       "      <td>0.000000</td>\n",
       "      <td>0.000000</td>\n",
       "      <td>0.000000</td>\n",
       "      <td>17</td>\n",
       "    </tr>\n",
       "    <tr>\n",
       "      <th>3</th>\n",
       "      <td>1</td>\n",
       "      <td>0.0</td>\n",
       "      <td>0.0</td>\n",
       "      <td>0.0</td>\n",
       "      <td>0.0</td>\n",
       "      <td>551</td>\n",
       "      <td>0.261726</td>\n",
       "      <td>595.100000</td>\n",
       "      <td>5</td>\n",
       "      <td>0.000000</td>\n",
       "      <td>0.000000</td>\n",
       "      <td>0.000000</td>\n",
       "      <td>0.000000</td>\n",
       "      <td>0.000000</td>\n",
       "      <td>0.000000</td>\n",
       "      <td>0.000000</td>\n",
       "      <td>0.000000</td>\n",
       "      <td>0.000000</td>\n",
       "      <td>0.000000</td>\n",
       "      <td>17</td>\n",
       "    </tr>\n",
       "    <tr>\n",
       "      <th>4</th>\n",
       "      <td>1</td>\n",
       "      <td>0.0</td>\n",
       "      <td>0.0</td>\n",
       "      <td>0.0</td>\n",
       "      <td>24.0</td>\n",
       "      <td>90</td>\n",
       "      <td>0.672008</td>\n",
       "      <td>250.566667</td>\n",
       "      <td>11</td>\n",
       "      <td>0.000000</td>\n",
       "      <td>0.000000</td>\n",
       "      <td>0.000000</td>\n",
       "      <td>0.000000</td>\n",
       "      <td>0.000000</td>\n",
       "      <td>0.000000</td>\n",
       "      <td>0.000000</td>\n",
       "      <td>0.000000</td>\n",
       "      <td>0.000000</td>\n",
       "      <td>0.266667</td>\n",
       "      <td>11</td>\n",
       "    </tr>\n",
       "  </tbody>\n",
       "</table>\n",
       "</div>"
      ],
      "text/plain": [
       "  label  win1  win2   win3   win4  win5  play_ratio  total_play_time  \\\n",
       "0     1  15.0  38.0   90.0  164.0   291    0.866174      1107.816667   \n",
       "1     0  30.0  90.0  410.0  622.0   942    0.623113      2373.466667   \n",
       "2     1   0.0   0.0    0.0    0.0    90    0.937525       351.083333   \n",
       "3     1   0.0   0.0    0.0    0.0   551    0.261726       595.100000   \n",
       "4     1   0.0   0.0    0.0   24.0    90    0.672008       250.566667   \n",
       "\n",
       "   total_play_day  play_1d_ov_3d  play_1d_ov_7d  play_1d_ov_14d  \\\n",
       "0              20       0.394737       0.166667        0.091463   \n",
       "1              20       0.333333       0.073171        0.048232   \n",
       "2               4       0.000000       0.000000        0.000000   \n",
       "3               5       0.000000       0.000000        0.000000   \n",
       "4              11       0.000000       0.000000        0.000000   \n",
       "\n",
       "   play_1d_ov_23d  play_3d_ov_7d  play_3d_ov_14d  play_3d_ov_23d  \\\n",
       "0        0.051546       0.422222        0.231707        0.130584   \n",
       "1        0.031847       0.219512        0.144695        0.095541   \n",
       "2        0.000000       0.000000        0.000000        0.000000   \n",
       "3        0.000000       0.000000        0.000000        0.000000   \n",
       "4        0.000000       0.000000        0.000000        0.000000   \n",
       "\n",
       "   play_7d_ov_14d  play_7d_ov_23d  play_14d_ov_23d  days_since_last_play  \n",
       "0        0.548780        0.309278         0.563574                     0  \n",
       "1        0.659164        0.435244         0.660297                     0  \n",
       "2        0.000000        0.000000         0.000000                    17  \n",
       "3        0.000000        0.000000         0.000000                    17  \n",
       "4        0.000000        0.000000         0.266667                    11  "
      ]
     },
     "execution_count": 88,
     "metadata": {},
     "output_type": "execute_result"
    }
   ],
   "source": [
    "df_device=pd.get_dummies(df_feature['device'])\n",
    "del df_feature['device']\n",
    "df_feature.head()"
   ]
  },
  {
   "cell_type": "code",
   "execution_count": 89,
   "metadata": {},
   "outputs": [
    {
     "data": {
      "text/html": [
       "<div>\n",
       "<style>\n",
       "    .dataframe thead tr:only-child th {\n",
       "        text-align: right;\n",
       "    }\n",
       "\n",
       "    .dataframe thead th {\n",
       "        text-align: left;\n",
       "    }\n",
       "\n",
       "    .dataframe tbody tr th {\n",
       "        vertical-align: top;\n",
       "    }\n",
       "</style>\n",
       "<table border=\"1\" class=\"dataframe\">\n",
       "  <thead>\n",
       "    <tr style=\"text-align: right;\">\n",
       "      <th></th>\n",
       "      <th>label</th>\n",
       "      <th>win1</th>\n",
       "      <th>win2</th>\n",
       "      <th>win3</th>\n",
       "      <th>win4</th>\n",
       "      <th>win5</th>\n",
       "      <th>play_ratio</th>\n",
       "      <th>total_play_time</th>\n",
       "      <th>total_play_day</th>\n",
       "      <th>play_1d_ov_3d</th>\n",
       "      <th>...</th>\n",
       "      <th>play_1d_ov_23d</th>\n",
       "      <th>play_3d_ov_7d</th>\n",
       "      <th>play_3d_ov_14d</th>\n",
       "      <th>play_3d_ov_23d</th>\n",
       "      <th>play_7d_ov_14d</th>\n",
       "      <th>play_7d_ov_23d</th>\n",
       "      <th>play_14d_ov_23d</th>\n",
       "      <th>days_since_last_play</th>\n",
       "      <th>ar</th>\n",
       "      <th>ip</th>\n",
       "    </tr>\n",
       "  </thead>\n",
       "  <tbody>\n",
       "    <tr>\n",
       "      <th>0</th>\n",
       "      <td>1</td>\n",
       "      <td>15.0</td>\n",
       "      <td>38.0</td>\n",
       "      <td>90.0</td>\n",
       "      <td>164.0</td>\n",
       "      <td>291</td>\n",
       "      <td>0.866174</td>\n",
       "      <td>1107.816667</td>\n",
       "      <td>20</td>\n",
       "      <td>0.394737</td>\n",
       "      <td>...</td>\n",
       "      <td>0.051546</td>\n",
       "      <td>0.422222</td>\n",
       "      <td>0.231707</td>\n",
       "      <td>0.130584</td>\n",
       "      <td>0.548780</td>\n",
       "      <td>0.309278</td>\n",
       "      <td>0.563574</td>\n",
       "      <td>0</td>\n",
       "      <td>1</td>\n",
       "      <td>0</td>\n",
       "    </tr>\n",
       "    <tr>\n",
       "      <th>1</th>\n",
       "      <td>0</td>\n",
       "      <td>30.0</td>\n",
       "      <td>90.0</td>\n",
       "      <td>410.0</td>\n",
       "      <td>622.0</td>\n",
       "      <td>942</td>\n",
       "      <td>0.623113</td>\n",
       "      <td>2373.466667</td>\n",
       "      <td>20</td>\n",
       "      <td>0.333333</td>\n",
       "      <td>...</td>\n",
       "      <td>0.031847</td>\n",
       "      <td>0.219512</td>\n",
       "      <td>0.144695</td>\n",
       "      <td>0.095541</td>\n",
       "      <td>0.659164</td>\n",
       "      <td>0.435244</td>\n",
       "      <td>0.660297</td>\n",
       "      <td>0</td>\n",
       "      <td>1</td>\n",
       "      <td>0</td>\n",
       "    </tr>\n",
       "    <tr>\n",
       "      <th>2</th>\n",
       "      <td>1</td>\n",
       "      <td>0.0</td>\n",
       "      <td>0.0</td>\n",
       "      <td>0.0</td>\n",
       "      <td>0.0</td>\n",
       "      <td>90</td>\n",
       "      <td>0.937525</td>\n",
       "      <td>351.083333</td>\n",
       "      <td>4</td>\n",
       "      <td>0.000000</td>\n",
       "      <td>...</td>\n",
       "      <td>0.000000</td>\n",
       "      <td>0.000000</td>\n",
       "      <td>0.000000</td>\n",
       "      <td>0.000000</td>\n",
       "      <td>0.000000</td>\n",
       "      <td>0.000000</td>\n",
       "      <td>0.000000</td>\n",
       "      <td>17</td>\n",
       "      <td>1</td>\n",
       "      <td>0</td>\n",
       "    </tr>\n",
       "    <tr>\n",
       "      <th>3</th>\n",
       "      <td>1</td>\n",
       "      <td>0.0</td>\n",
       "      <td>0.0</td>\n",
       "      <td>0.0</td>\n",
       "      <td>0.0</td>\n",
       "      <td>551</td>\n",
       "      <td>0.261726</td>\n",
       "      <td>595.100000</td>\n",
       "      <td>5</td>\n",
       "      <td>0.000000</td>\n",
       "      <td>...</td>\n",
       "      <td>0.000000</td>\n",
       "      <td>0.000000</td>\n",
       "      <td>0.000000</td>\n",
       "      <td>0.000000</td>\n",
       "      <td>0.000000</td>\n",
       "      <td>0.000000</td>\n",
       "      <td>0.000000</td>\n",
       "      <td>17</td>\n",
       "      <td>1</td>\n",
       "      <td>0</td>\n",
       "    </tr>\n",
       "    <tr>\n",
       "      <th>4</th>\n",
       "      <td>1</td>\n",
       "      <td>0.0</td>\n",
       "      <td>0.0</td>\n",
       "      <td>0.0</td>\n",
       "      <td>24.0</td>\n",
       "      <td>90</td>\n",
       "      <td>0.672008</td>\n",
       "      <td>250.566667</td>\n",
       "      <td>11</td>\n",
       "      <td>0.000000</td>\n",
       "      <td>...</td>\n",
       "      <td>0.000000</td>\n",
       "      <td>0.000000</td>\n",
       "      <td>0.000000</td>\n",
       "      <td>0.000000</td>\n",
       "      <td>0.000000</td>\n",
       "      <td>0.000000</td>\n",
       "      <td>0.266667</td>\n",
       "      <td>11</td>\n",
       "      <td>1</td>\n",
       "      <td>0</td>\n",
       "    </tr>\n",
       "  </tbody>\n",
       "</table>\n",
       "<p>5 rows × 22 columns</p>\n",
       "</div>"
      ],
      "text/plain": [
       "  label  win1  win2   win3   win4  win5  play_ratio  total_play_time  \\\n",
       "0     1  15.0  38.0   90.0  164.0   291    0.866174      1107.816667   \n",
       "1     0  30.0  90.0  410.0  622.0   942    0.623113      2373.466667   \n",
       "2     1   0.0   0.0    0.0    0.0    90    0.937525       351.083333   \n",
       "3     1   0.0   0.0    0.0    0.0   551    0.261726       595.100000   \n",
       "4     1   0.0   0.0    0.0   24.0    90    0.672008       250.566667   \n",
       "\n",
       "   total_play_day  play_1d_ov_3d ...  play_1d_ov_23d  play_3d_ov_7d  \\\n",
       "0              20       0.394737 ...        0.051546       0.422222   \n",
       "1              20       0.333333 ...        0.031847       0.219512   \n",
       "2               4       0.000000 ...        0.000000       0.000000   \n",
       "3               5       0.000000 ...        0.000000       0.000000   \n",
       "4              11       0.000000 ...        0.000000       0.000000   \n",
       "\n",
       "   play_3d_ov_14d  play_3d_ov_23d  play_7d_ov_14d  play_7d_ov_23d  \\\n",
       "0        0.231707        0.130584        0.548780        0.309278   \n",
       "1        0.144695        0.095541        0.659164        0.435244   \n",
       "2        0.000000        0.000000        0.000000        0.000000   \n",
       "3        0.000000        0.000000        0.000000        0.000000   \n",
       "4        0.000000        0.000000        0.000000        0.000000   \n",
       "\n",
       "   play_14d_ov_23d  days_since_last_play  ar  ip  \n",
       "0         0.563574                     0   1   0  \n",
       "1         0.660297                     0   1   0  \n",
       "2         0.000000                    17   1   0  \n",
       "3         0.000000                    17   1   0  \n",
       "4         0.266667                    11   1   0  \n",
       "\n",
       "[5 rows x 22 columns]"
      ]
     },
     "execution_count": 89,
     "metadata": {},
     "output_type": "execute_result"
    }
   ],
   "source": [
    "df_matrix=df_feature.join(df_device)\n",
    "df_matrix.head()"
   ]
  },
  {
   "cell_type": "markdown",
   "metadata": {},
   "source": [
    "### Train/Test Split"
   ]
  },
  {
   "cell_type": "code",
   "execution_count": 90,
   "metadata": {
    "scrolled": true
   },
   "outputs": [],
   "source": [
    "from sklearn.cross_validation import train_test_split"
   ]
  },
  {
   "cell_type": "code",
   "execution_count": 91,
   "metadata": {},
   "outputs": [],
   "source": [
    "y=np.array(df_matrix['label'])\n",
    "del df_matrix['label']\n",
    "x=np.array(df_matrix)"
   ]
  },
  {
   "cell_type": "code",
   "execution_count": 92,
   "metadata": {},
   "outputs": [
    {
     "name": "stdout",
     "output_type": "stream",
     "text": [
      "shape of x is:(25389, 21)\n",
      "shape of y is:(25389,)\n"
     ]
    }
   ],
   "source": [
    "print('shape of x is:%s' % str(x.shape))\n",
    "print('shape of y is:%s' % str(y.shape))"
   ]
  },
  {
   "cell_type": "code",
   "execution_count": 93,
   "metadata": {
    "collapsed": true
   },
   "outputs": [],
   "source": [
    "x_train,x_test,y_train,y_test=train_test_split(x,y,test_size=0.5,random_state=42)"
   ]
  },
  {
   "cell_type": "code",
   "execution_count": 94,
   "metadata": {},
   "outputs": [
    {
     "data": {
      "text/plain": [
       "array([u'win1', u'win2', u'win3', u'win4', u'win5', u'play_ratio',\n",
       "       u'total_play_time', u'total_play_day', u'play_1d_ov_3d',\n",
       "       u'play_1d_ov_7d', u'play_1d_ov_14d', u'play_1d_ov_23d',\n",
       "       u'play_3d_ov_7d', u'play_3d_ov_14d', u'play_3d_ov_23d',\n",
       "       u'play_7d_ov_14d', u'play_7d_ov_23d', u'play_14d_ov_23d',\n",
       "       u'days_since_last_play', u'ar', u'ip'], dtype=object)"
      ]
     },
     "execution_count": 94,
     "metadata": {},
     "output_type": "execute_result"
    }
   ],
   "source": [
    "feature_names=df_matrix.columns.values\n",
    "feature_names"
   ]
  },
  {
   "cell_type": "markdown",
   "metadata": {},
   "source": [
    "## Logistic Regression Model"
   ]
  },
  {
   "cell_type": "code",
   "execution_count": 15,
   "metadata": {
    "collapsed": true
   },
   "outputs": [],
   "source": [
    "from sklearn.linear_model import LogisticRegression\n",
    "from sklearn.ensemble import RandomForestClassifier\n",
    "from sklearn.model_selection import GridSearchCV  \n",
    "from sklearn import cross_validation"
   ]
  },
  {
   "cell_type": "code",
   "execution_count": 16,
   "metadata": {},
   "outputs": [
    {
     "data": {
      "text/plain": [
       "LogisticRegression(C=1.0, class_weight=None, dual=False, fit_intercept=True,\n",
       "          intercept_scaling=1, max_iter=100, multi_class='ovr', n_jobs=1,\n",
       "          penalty='l2', random_state=None, solver='liblinear', tol=0.0001,\n",
       "          verbose=0, warm_start=False)"
      ]
     },
     "execution_count": 16,
     "metadata": {},
     "output_type": "execute_result"
    }
   ],
   "source": [
    "LogisticModel = LogisticRegression()\n",
    "LogisticModel.fit(x_train, y_train)"
   ]
  },
  {
   "cell_type": "code",
   "execution_count": 17,
   "metadata": {},
   "outputs": [
    {
     "name": "stdout",
     "output_type": "stream",
     "text": [
      "Training DataSet Score: 0.747361\n",
      "Testing DataSet Score: 0.751950\n"
     ]
    }
   ],
   "source": [
    "print('Training DataSet Score: %f' % LogisticModel.score(x_train, y_train))\n",
    "print('Testing DataSet Score: %f' % LogisticModel.score(x_test, y_test))"
   ]
  },
  {
   "cell_type": "markdown",
   "metadata": {},
   "source": [
    "Use GridSearch method to find best parameters"
   ]
  },
  {
   "cell_type": "code",
   "execution_count": 18,
   "metadata": {},
   "outputs": [
    {
     "name": "stdout",
     "output_type": "stream",
     "text": [
      "Logistic Regression: Best parameters set found on development set:\n",
      "{'penalty': 'l1', 'C': 1, 'tol': 0.0001}\n"
     ]
    }
   ],
   "source": [
    "LR_param = {\n",
    "    \"penalty\": [\"l1\", \"l2\"],\n",
    "    \"C\": [0.5,1,2,4,8,16],\n",
    "    \"tol\": [0.001,0.0001,0.00001]\n",
    "}\n",
    "LR = LogisticRegression(n_jobs = 4)\n",
    "LR_grid = GridSearchCV(LR, LR_param, cv=5)\n",
    "LR_grid.fit(x_train, y_train)\n",
    "print(\"Logistic Regression: Best parameters set found on development set:\")  \n",
    "print(LR_grid.best_params_)"
   ]
  },
  {
   "cell_type": "code",
   "execution_count": 19,
   "metadata": {},
   "outputs": [
    {
     "name": "stdout",
     "output_type": "stream",
     "text": [
      "Training DataSet Score: 0.749252\n",
      "Testing DataSet Score: 0.753525\n"
     ]
    }
   ],
   "source": [
    "LogisticModel = LogisticRegression(penalty = 'l1', C = 8, tol = 0.0001)\n",
    "LogisticModel.fit(x_train, y_train)\n",
    "print('Training DataSet Score: %f' % LogisticModel.score(x_train, y_train))\n",
    "print('Testing DataSet Score: %f' % LogisticModel.score(x_test, y_test))"
   ]
  },
  {
   "cell_type": "code",
   "execution_count": 20,
   "metadata": {
    "collapsed": true
   },
   "outputs": [],
   "source": [
    "def get_top_values(lst, n, labels):\n",
    "    return [labels[i] for i in np.argsort(lst)[::-1][:n]] "
   ]
  },
  {
   "cell_type": "code",
   "execution_count": 21,
   "metadata": {},
   "outputs": [
    {
     "data": {
      "text/plain": [
       "[u'play_1d_ov_23d',\n",
       " u'play_1d_ov_14d',\n",
       " u'play_7d_ov_23d',\n",
       " u'ip',\n",
       " u'play_14d_ov_23d']"
      ]
     },
     "execution_count": 21,
     "metadata": {},
     "output_type": "execute_result"
    }
   ],
   "source": [
    "coeff = np.absolute(LogisticModel.coef_[0])\n",
    "get_top_values(coeff, 5, feature_names)"
   ]
  },
  {
   "cell_type": "markdown",
   "metadata": {},
   "source": [
    "## Ramdom Forest Classifier"
   ]
  },
  {
   "cell_type": "code",
   "execution_count": 109,
   "metadata": {
    "scrolled": false
   },
   "outputs": [],
   "source": [
    "df=df.set_index('uid')"
   ]
  },
  {
   "cell_type": "code",
   "execution_count": 110,
   "metadata": {},
   "outputs": [
    {
     "data": {
      "text/html": [
       "<div>\n",
       "<style>\n",
       "    .dataframe thead tr:only-child th {\n",
       "        text-align: right;\n",
       "    }\n",
       "\n",
       "    .dataframe thead th {\n",
       "        text-align: left;\n",
       "    }\n",
       "\n",
       "    .dataframe tbody tr th {\n",
       "        vertical-align: top;\n",
       "    }\n",
       "</style>\n",
       "<table border=\"1\" class=\"dataframe\">\n",
       "  <thead>\n",
       "    <tr style=\"text-align: right;\">\n",
       "      <th></th>\n",
       "      <th>label</th>\n",
       "      <th>win1</th>\n",
       "      <th>win2</th>\n",
       "      <th>win3</th>\n",
       "      <th>win4</th>\n",
       "      <th>win5</th>\n",
       "      <th>device</th>\n",
       "      <th>play_ratio</th>\n",
       "      <th>total_play_time</th>\n",
       "      <th>total_play_day</th>\n",
       "      <th>...</th>\n",
       "      <th>play_1d_ov_7d</th>\n",
       "      <th>play_1d_ov_14d</th>\n",
       "      <th>play_1d_ov_23d</th>\n",
       "      <th>play_3d_ov_7d</th>\n",
       "      <th>play_3d_ov_14d</th>\n",
       "      <th>play_3d_ov_23d</th>\n",
       "      <th>play_7d_ov_14d</th>\n",
       "      <th>play_7d_ov_23d</th>\n",
       "      <th>play_14d_ov_23d</th>\n",
       "      <th>days_since_last_play</th>\n",
       "    </tr>\n",
       "    <tr>\n",
       "      <th>uid</th>\n",
       "      <th></th>\n",
       "      <th></th>\n",
       "      <th></th>\n",
       "      <th></th>\n",
       "      <th></th>\n",
       "      <th></th>\n",
       "      <th></th>\n",
       "      <th></th>\n",
       "      <th></th>\n",
       "      <th></th>\n",
       "      <th></th>\n",
       "      <th></th>\n",
       "      <th></th>\n",
       "      <th></th>\n",
       "      <th></th>\n",
       "      <th></th>\n",
       "      <th></th>\n",
       "      <th></th>\n",
       "      <th></th>\n",
       "      <th></th>\n",
       "      <th></th>\n",
       "    </tr>\n",
       "  </thead>\n",
       "  <tbody>\n",
       "    <tr>\n",
       "      <th>168551323</th>\n",
       "      <td>1</td>\n",
       "      <td>15.0</td>\n",
       "      <td>38.0</td>\n",
       "      <td>90.0</td>\n",
       "      <td>164.0</td>\n",
       "      <td>291</td>\n",
       "      <td>ar</td>\n",
       "      <td>0.866174</td>\n",
       "      <td>1107.816667</td>\n",
       "      <td>20</td>\n",
       "      <td>...</td>\n",
       "      <td>0.166667</td>\n",
       "      <td>0.091463</td>\n",
       "      <td>0.051546</td>\n",
       "      <td>0.422222</td>\n",
       "      <td>0.231707</td>\n",
       "      <td>0.130584</td>\n",
       "      <td>0.548780</td>\n",
       "      <td>0.309278</td>\n",
       "      <td>0.563574</td>\n",
       "      <td>0</td>\n",
       "    </tr>\n",
       "    <tr>\n",
       "      <th>168542680</th>\n",
       "      <td>0</td>\n",
       "      <td>30.0</td>\n",
       "      <td>90.0</td>\n",
       "      <td>410.0</td>\n",
       "      <td>622.0</td>\n",
       "      <td>942</td>\n",
       "      <td>ar</td>\n",
       "      <td>0.623113</td>\n",
       "      <td>2373.466667</td>\n",
       "      <td>20</td>\n",
       "      <td>...</td>\n",
       "      <td>0.073171</td>\n",
       "      <td>0.048232</td>\n",
       "      <td>0.031847</td>\n",
       "      <td>0.219512</td>\n",
       "      <td>0.144695</td>\n",
       "      <td>0.095541</td>\n",
       "      <td>0.659164</td>\n",
       "      <td>0.435244</td>\n",
       "      <td>0.660297</td>\n",
       "      <td>0</td>\n",
       "    </tr>\n",
       "    <tr>\n",
       "      <th>168551542</th>\n",
       "      <td>1</td>\n",
       "      <td>0.0</td>\n",
       "      <td>0.0</td>\n",
       "      <td>0.0</td>\n",
       "      <td>0.0</td>\n",
       "      <td>90</td>\n",
       "      <td>ar</td>\n",
       "      <td>0.937525</td>\n",
       "      <td>351.083333</td>\n",
       "      <td>4</td>\n",
       "      <td>...</td>\n",
       "      <td>0.000000</td>\n",
       "      <td>0.000000</td>\n",
       "      <td>0.000000</td>\n",
       "      <td>0.000000</td>\n",
       "      <td>0.000000</td>\n",
       "      <td>0.000000</td>\n",
       "      <td>0.000000</td>\n",
       "      <td>0.000000</td>\n",
       "      <td>0.000000</td>\n",
       "      <td>17</td>\n",
       "    </tr>\n",
       "    <tr>\n",
       "      <th>168549948</th>\n",
       "      <td>1</td>\n",
       "      <td>0.0</td>\n",
       "      <td>0.0</td>\n",
       "      <td>0.0</td>\n",
       "      <td>0.0</td>\n",
       "      <td>551</td>\n",
       "      <td>ar</td>\n",
       "      <td>0.261726</td>\n",
       "      <td>595.100000</td>\n",
       "      <td>5</td>\n",
       "      <td>...</td>\n",
       "      <td>0.000000</td>\n",
       "      <td>0.000000</td>\n",
       "      <td>0.000000</td>\n",
       "      <td>0.000000</td>\n",
       "      <td>0.000000</td>\n",
       "      <td>0.000000</td>\n",
       "      <td>0.000000</td>\n",
       "      <td>0.000000</td>\n",
       "      <td>0.000000</td>\n",
       "      <td>17</td>\n",
       "    </tr>\n",
       "    <tr>\n",
       "      <th>168551120</th>\n",
       "      <td>1</td>\n",
       "      <td>0.0</td>\n",
       "      <td>0.0</td>\n",
       "      <td>0.0</td>\n",
       "      <td>24.0</td>\n",
       "      <td>90</td>\n",
       "      <td>ar</td>\n",
       "      <td>0.672008</td>\n",
       "      <td>250.566667</td>\n",
       "      <td>11</td>\n",
       "      <td>...</td>\n",
       "      <td>0.000000</td>\n",
       "      <td>0.000000</td>\n",
       "      <td>0.000000</td>\n",
       "      <td>0.000000</td>\n",
       "      <td>0.000000</td>\n",
       "      <td>0.000000</td>\n",
       "      <td>0.000000</td>\n",
       "      <td>0.000000</td>\n",
       "      <td>0.266667</td>\n",
       "      <td>11</td>\n",
       "    </tr>\n",
       "  </tbody>\n",
       "</table>\n",
       "<p>5 rows × 21 columns</p>\n",
       "</div>"
      ],
      "text/plain": [
       "           label  win1  win2   win3   win4  win5 device  play_ratio  \\\n",
       "uid                                                                   \n",
       "168551323      1  15.0  38.0   90.0  164.0   291     ar    0.866174   \n",
       "168542680      0  30.0  90.0  410.0  622.0   942     ar    0.623113   \n",
       "168551542      1   0.0   0.0    0.0    0.0    90     ar    0.937525   \n",
       "168549948      1   0.0   0.0    0.0    0.0   551     ar    0.261726   \n",
       "168551120      1   0.0   0.0    0.0   24.0    90     ar    0.672008   \n",
       "\n",
       "           total_play_time  total_play_day          ...           \\\n",
       "uid                                                 ...            \n",
       "168551323      1107.816667              20          ...            \n",
       "168542680      2373.466667              20          ...            \n",
       "168551542       351.083333               4          ...            \n",
       "168549948       595.100000               5          ...            \n",
       "168551120       250.566667              11          ...            \n",
       "\n",
       "           play_1d_ov_7d  play_1d_ov_14d  play_1d_ov_23d  play_3d_ov_7d  \\\n",
       "uid                                                                       \n",
       "168551323       0.166667        0.091463        0.051546       0.422222   \n",
       "168542680       0.073171        0.048232        0.031847       0.219512   \n",
       "168551542       0.000000        0.000000        0.000000       0.000000   \n",
       "168549948       0.000000        0.000000        0.000000       0.000000   \n",
       "168551120       0.000000        0.000000        0.000000       0.000000   \n",
       "\n",
       "           play_3d_ov_14d  play_3d_ov_23d  play_7d_ov_14d  play_7d_ov_23d  \\\n",
       "uid                                                                         \n",
       "168551323        0.231707        0.130584        0.548780        0.309278   \n",
       "168542680        0.144695        0.095541        0.659164        0.435244   \n",
       "168551542        0.000000        0.000000        0.000000        0.000000   \n",
       "168549948        0.000000        0.000000        0.000000        0.000000   \n",
       "168551120        0.000000        0.000000        0.000000        0.000000   \n",
       "\n",
       "           play_14d_ov_23d  days_since_last_play  \n",
       "uid                                               \n",
       "168551323         0.563574                     0  \n",
       "168542680         0.660297                     0  \n",
       "168551542         0.000000                    17  \n",
       "168549948         0.000000                    17  \n",
       "168551120         0.266667                    11  \n",
       "\n",
       "[5 rows x 21 columns]"
      ]
     },
     "execution_count": 110,
     "metadata": {},
     "output_type": "execute_result"
    }
   ],
   "source": [
    "df.head()"
   ]
  },
  {
   "cell_type": "code",
   "execution_count": 111,
   "metadata": {
    "collapsed": true
   },
   "outputs": [],
   "source": [
    "df_dummies = pd.get_dummies(df,columns=['device'])"
   ]
  },
  {
   "cell_type": "code",
   "execution_count": 112,
   "metadata": {},
   "outputs": [
    {
     "data": {
      "text/html": [
       "<div>\n",
       "<style>\n",
       "    .dataframe thead tr:only-child th {\n",
       "        text-align: right;\n",
       "    }\n",
       "\n",
       "    .dataframe thead th {\n",
       "        text-align: left;\n",
       "    }\n",
       "\n",
       "    .dataframe tbody tr th {\n",
       "        vertical-align: top;\n",
       "    }\n",
       "</style>\n",
       "<table border=\"1\" class=\"dataframe\">\n",
       "  <thead>\n",
       "    <tr style=\"text-align: right;\">\n",
       "      <th></th>\n",
       "      <th>win1</th>\n",
       "      <th>win2</th>\n",
       "      <th>win3</th>\n",
       "      <th>win4</th>\n",
       "      <th>win5</th>\n",
       "      <th>play_ratio</th>\n",
       "      <th>total_play_time</th>\n",
       "      <th>total_play_day</th>\n",
       "      <th>play_1d_ov_3d</th>\n",
       "      <th>play_1d_ov_7d</th>\n",
       "      <th>...</th>\n",
       "      <th>play_1d_ov_23d</th>\n",
       "      <th>play_3d_ov_7d</th>\n",
       "      <th>play_3d_ov_14d</th>\n",
       "      <th>play_3d_ov_23d</th>\n",
       "      <th>play_7d_ov_14d</th>\n",
       "      <th>play_7d_ov_23d</th>\n",
       "      <th>play_14d_ov_23d</th>\n",
       "      <th>days_since_last_play</th>\n",
       "      <th>device_ar</th>\n",
       "      <th>device_ip</th>\n",
       "    </tr>\n",
       "    <tr>\n",
       "      <th>uid</th>\n",
       "      <th></th>\n",
       "      <th></th>\n",
       "      <th></th>\n",
       "      <th></th>\n",
       "      <th></th>\n",
       "      <th></th>\n",
       "      <th></th>\n",
       "      <th></th>\n",
       "      <th></th>\n",
       "      <th></th>\n",
       "      <th></th>\n",
       "      <th></th>\n",
       "      <th></th>\n",
       "      <th></th>\n",
       "      <th></th>\n",
       "      <th></th>\n",
       "      <th></th>\n",
       "      <th></th>\n",
       "      <th></th>\n",
       "      <th></th>\n",
       "      <th></th>\n",
       "    </tr>\n",
       "  </thead>\n",
       "  <tbody>\n",
       "    <tr>\n",
       "      <th>168551323</th>\n",
       "      <td>15.0</td>\n",
       "      <td>38.0</td>\n",
       "      <td>90.0</td>\n",
       "      <td>164.0</td>\n",
       "      <td>291</td>\n",
       "      <td>0.866174</td>\n",
       "      <td>1107.816667</td>\n",
       "      <td>20</td>\n",
       "      <td>0.394737</td>\n",
       "      <td>0.166667</td>\n",
       "      <td>...</td>\n",
       "      <td>0.051546</td>\n",
       "      <td>0.422222</td>\n",
       "      <td>0.231707</td>\n",
       "      <td>0.130584</td>\n",
       "      <td>0.548780</td>\n",
       "      <td>0.309278</td>\n",
       "      <td>0.563574</td>\n",
       "      <td>0</td>\n",
       "      <td>1</td>\n",
       "      <td>0</td>\n",
       "    </tr>\n",
       "    <tr>\n",
       "      <th>168542680</th>\n",
       "      <td>30.0</td>\n",
       "      <td>90.0</td>\n",
       "      <td>410.0</td>\n",
       "      <td>622.0</td>\n",
       "      <td>942</td>\n",
       "      <td>0.623113</td>\n",
       "      <td>2373.466667</td>\n",
       "      <td>20</td>\n",
       "      <td>0.333333</td>\n",
       "      <td>0.073171</td>\n",
       "      <td>...</td>\n",
       "      <td>0.031847</td>\n",
       "      <td>0.219512</td>\n",
       "      <td>0.144695</td>\n",
       "      <td>0.095541</td>\n",
       "      <td>0.659164</td>\n",
       "      <td>0.435244</td>\n",
       "      <td>0.660297</td>\n",
       "      <td>0</td>\n",
       "      <td>1</td>\n",
       "      <td>0</td>\n",
       "    </tr>\n",
       "    <tr>\n",
       "      <th>168551542</th>\n",
       "      <td>0.0</td>\n",
       "      <td>0.0</td>\n",
       "      <td>0.0</td>\n",
       "      <td>0.0</td>\n",
       "      <td>90</td>\n",
       "      <td>0.937525</td>\n",
       "      <td>351.083333</td>\n",
       "      <td>4</td>\n",
       "      <td>0.000000</td>\n",
       "      <td>0.000000</td>\n",
       "      <td>...</td>\n",
       "      <td>0.000000</td>\n",
       "      <td>0.000000</td>\n",
       "      <td>0.000000</td>\n",
       "      <td>0.000000</td>\n",
       "      <td>0.000000</td>\n",
       "      <td>0.000000</td>\n",
       "      <td>0.000000</td>\n",
       "      <td>17</td>\n",
       "      <td>1</td>\n",
       "      <td>0</td>\n",
       "    </tr>\n",
       "    <tr>\n",
       "      <th>168549948</th>\n",
       "      <td>0.0</td>\n",
       "      <td>0.0</td>\n",
       "      <td>0.0</td>\n",
       "      <td>0.0</td>\n",
       "      <td>551</td>\n",
       "      <td>0.261726</td>\n",
       "      <td>595.100000</td>\n",
       "      <td>5</td>\n",
       "      <td>0.000000</td>\n",
       "      <td>0.000000</td>\n",
       "      <td>...</td>\n",
       "      <td>0.000000</td>\n",
       "      <td>0.000000</td>\n",
       "      <td>0.000000</td>\n",
       "      <td>0.000000</td>\n",
       "      <td>0.000000</td>\n",
       "      <td>0.000000</td>\n",
       "      <td>0.000000</td>\n",
       "      <td>17</td>\n",
       "      <td>1</td>\n",
       "      <td>0</td>\n",
       "    </tr>\n",
       "    <tr>\n",
       "      <th>168551120</th>\n",
       "      <td>0.0</td>\n",
       "      <td>0.0</td>\n",
       "      <td>0.0</td>\n",
       "      <td>24.0</td>\n",
       "      <td>90</td>\n",
       "      <td>0.672008</td>\n",
       "      <td>250.566667</td>\n",
       "      <td>11</td>\n",
       "      <td>0.000000</td>\n",
       "      <td>0.000000</td>\n",
       "      <td>...</td>\n",
       "      <td>0.000000</td>\n",
       "      <td>0.000000</td>\n",
       "      <td>0.000000</td>\n",
       "      <td>0.000000</td>\n",
       "      <td>0.000000</td>\n",
       "      <td>0.000000</td>\n",
       "      <td>0.266667</td>\n",
       "      <td>11</td>\n",
       "      <td>1</td>\n",
       "      <td>0</td>\n",
       "    </tr>\n",
       "  </tbody>\n",
       "</table>\n",
       "<p>5 rows × 21 columns</p>\n",
       "</div>"
      ],
      "text/plain": [
       "           win1  win2   win3   win4  win5  play_ratio  total_play_time  \\\n",
       "uid                                                                      \n",
       "168551323  15.0  38.0   90.0  164.0   291    0.866174      1107.816667   \n",
       "168542680  30.0  90.0  410.0  622.0   942    0.623113      2373.466667   \n",
       "168551542   0.0   0.0    0.0    0.0    90    0.937525       351.083333   \n",
       "168549948   0.0   0.0    0.0    0.0   551    0.261726       595.100000   \n",
       "168551120   0.0   0.0    0.0   24.0    90    0.672008       250.566667   \n",
       "\n",
       "           total_play_day  play_1d_ov_3d  play_1d_ov_7d    ...      \\\n",
       "uid                                                        ...       \n",
       "168551323              20       0.394737       0.166667    ...       \n",
       "168542680              20       0.333333       0.073171    ...       \n",
       "168551542               4       0.000000       0.000000    ...       \n",
       "168549948               5       0.000000       0.000000    ...       \n",
       "168551120              11       0.000000       0.000000    ...       \n",
       "\n",
       "           play_1d_ov_23d  play_3d_ov_7d  play_3d_ov_14d  play_3d_ov_23d  \\\n",
       "uid                                                                        \n",
       "168551323        0.051546       0.422222        0.231707        0.130584   \n",
       "168542680        0.031847       0.219512        0.144695        0.095541   \n",
       "168551542        0.000000       0.000000        0.000000        0.000000   \n",
       "168549948        0.000000       0.000000        0.000000        0.000000   \n",
       "168551120        0.000000       0.000000        0.000000        0.000000   \n",
       "\n",
       "           play_7d_ov_14d  play_7d_ov_23d  play_14d_ov_23d  \\\n",
       "uid                                                          \n",
       "168551323        0.548780        0.309278         0.563574   \n",
       "168542680        0.659164        0.435244         0.660297   \n",
       "168551542        0.000000        0.000000         0.000000   \n",
       "168549948        0.000000        0.000000         0.000000   \n",
       "168551120        0.000000        0.000000         0.266667   \n",
       "\n",
       "           days_since_last_play  device_ar  device_ip  \n",
       "uid                                                    \n",
       "168551323                     0          1          0  \n",
       "168542680                     0          1          0  \n",
       "168551542                    17          1          0  \n",
       "168549948                    17          1          0  \n",
       "168551120                    11          1          0  \n",
       "\n",
       "[5 rows x 21 columns]"
      ]
     },
     "execution_count": 112,
     "metadata": {},
     "output_type": "execute_result"
    }
   ],
   "source": [
    "df_dummies = df_dummies.drop('label',axis=1)\n",
    "df_dummies.head()"
   ]
  },
  {
   "cell_type": "code",
   "execution_count": 113,
   "metadata": {
    "collapsed": true
   },
   "outputs": [],
   "source": [
    "X = df_dummies.values\n",
    "y = df.label.values"
   ]
  },
  {
   "cell_type": "code",
   "execution_count": 114,
   "metadata": {},
   "outputs": [
    {
     "data": {
      "text/plain": [
       "((25389, 21), (25389,))"
      ]
     },
     "execution_count": 114,
     "metadata": {},
     "output_type": "execute_result"
    }
   ],
   "source": [
    "X.shape,y.shape"
   ]
  },
  {
   "cell_type": "code",
   "execution_count": 115,
   "metadata": {},
   "outputs": [
    {
     "data": {
      "text/plain": [
       "((7617, 21), (7617,))"
      ]
     },
     "execution_count": 115,
     "metadata": {},
     "output_type": "execute_result"
    }
   ],
   "source": [
    "from sklearn.cross_validation import train_test_split\n",
    "X_train, X_test, y_train, y_test = train_test_split(X, y, test_size=0.3, random_state=42)\n",
    "\n",
    "X_test.shape, y_test.shape"
   ]
  },
  {
   "cell_type": "code",
   "execution_count": 116,
   "metadata": {
    "collapsed": true
   },
   "outputs": [],
   "source": [
    "from sklearn.metrics import confusion_matrix, classification_report, roc_curve, roc_auc_score"
   ]
  },
  {
   "cell_type": "code",
   "execution_count": 117,
   "metadata": {},
   "outputs": [
    {
     "data": {
      "text/plain": [
       "RandomForestClassifier(bootstrap=True, class_weight=None, criterion='entropy',\n",
       "            max_depth=10, max_features='auto', max_leaf_nodes=None,\n",
       "            min_impurity_split=0.1, min_samples_leaf=20,\n",
       "            min_samples_split=50, min_weight_fraction_leaf=0.0,\n",
       "            n_estimators=200, n_jobs=-1, oob_score=False,\n",
       "            random_state=None, verbose=0, warm_start=False)"
      ]
     },
     "execution_count": 117,
     "metadata": {},
     "output_type": "execute_result"
    }
   ],
   "source": [
    "from sklearn.ensemble import RandomForestClassifier\n",
    "\n",
    "model_rfc = RandomForestClassifier(max_depth=10, n_estimators=200, min_samples_leaf=20, criterion='entropy',\n",
    "                                   min_samples_split=50, min_impurity_split=0.1, max_features = 'auto', n_jobs = -1)\n",
    "\n",
    "model_rfc.fit(X_train, y_train)"
   ]
  },
  {
   "cell_type": "code",
   "execution_count": 118,
   "metadata": {
    "scrolled": true
   },
   "outputs": [
    {
     "data": {
      "text/plain": [
       "(0.78618050866531619, 0.76696862281738221)"
      ]
     },
     "execution_count": 118,
     "metadata": {},
     "output_type": "execute_result"
    }
   ],
   "source": [
    "model_rfc.score(X_train, y_train),model_rfc.score(X_test, y_test)"
   ]
  },
  {
   "cell_type": "code",
   "execution_count": 119,
   "metadata": {},
   "outputs": [
    {
     "data": {
      "text/plain": [
       "0.7668516886748743"
      ]
     },
     "execution_count": 119,
     "metadata": {},
     "output_type": "execute_result"
    }
   ],
   "source": [
    "roc_auc_score(y_test, model_rfc.predict(X_test))"
   ]
  },
  {
   "cell_type": "code",
   "execution_count": 120,
   "metadata": {},
   "outputs": [
    {
     "data": {
      "text/plain": [
       "array([ 0.01396588,  0.10597115,  0.07828558,  0.05311488,  0.03695771,\n",
       "        0.02394982,  0.03865957,  0.07128166,  0.02245049,  0.01705811,\n",
       "        0.01283354,  0.01883758,  0.07316095,  0.06177997,  0.10050997,\n",
       "        0.05952689,  0.04216434,  0.03212261,  0.13075389,  0.00319949,\n",
       "        0.00341591])"
      ]
     },
     "execution_count": 120,
     "metadata": {},
     "output_type": "execute_result"
    }
   ],
   "source": [
    "importance_coeff = model_rfc.feature_importances_\n",
    "importance_coeff"
   ]
  },
  {
   "cell_type": "code",
   "execution_count": 121,
   "metadata": {},
   "outputs": [
    {
     "data": {
      "text/html": [
       "<div>\n",
       "<style>\n",
       "    .dataframe thead tr:only-child th {\n",
       "        text-align: right;\n",
       "    }\n",
       "\n",
       "    .dataframe thead th {\n",
       "        text-align: left;\n",
       "    }\n",
       "\n",
       "    .dataframe tbody tr th {\n",
       "        vertical-align: top;\n",
       "    }\n",
       "</style>\n",
       "<table border=\"1\" class=\"dataframe\">\n",
       "  <thead>\n",
       "    <tr style=\"text-align: right;\">\n",
       "      <th></th>\n",
       "      <th>feature</th>\n",
       "      <th>coeff</th>\n",
       "    </tr>\n",
       "  </thead>\n",
       "  <tbody>\n",
       "    <tr>\n",
       "      <th>18</th>\n",
       "      <td>days_since_last_play</td>\n",
       "      <td>0.130754</td>\n",
       "    </tr>\n",
       "    <tr>\n",
       "      <th>1</th>\n",
       "      <td>win2</td>\n",
       "      <td>0.105971</td>\n",
       "    </tr>\n",
       "    <tr>\n",
       "      <th>14</th>\n",
       "      <td>play_3d_ov_23d</td>\n",
       "      <td>0.100510</td>\n",
       "    </tr>\n",
       "    <tr>\n",
       "      <th>2</th>\n",
       "      <td>win3</td>\n",
       "      <td>0.078286</td>\n",
       "    </tr>\n",
       "    <tr>\n",
       "      <th>12</th>\n",
       "      <td>play_3d_ov_7d</td>\n",
       "      <td>0.073161</td>\n",
       "    </tr>\n",
       "    <tr>\n",
       "      <th>7</th>\n",
       "      <td>total_play_day</td>\n",
       "      <td>0.071282</td>\n",
       "    </tr>\n",
       "    <tr>\n",
       "      <th>13</th>\n",
       "      <td>play_3d_ov_14d</td>\n",
       "      <td>0.061780</td>\n",
       "    </tr>\n",
       "    <tr>\n",
       "      <th>15</th>\n",
       "      <td>play_7d_ov_14d</td>\n",
       "      <td>0.059527</td>\n",
       "    </tr>\n",
       "    <tr>\n",
       "      <th>3</th>\n",
       "      <td>win4</td>\n",
       "      <td>0.053115</td>\n",
       "    </tr>\n",
       "    <tr>\n",
       "      <th>16</th>\n",
       "      <td>play_7d_ov_23d</td>\n",
       "      <td>0.042164</td>\n",
       "    </tr>\n",
       "    <tr>\n",
       "      <th>6</th>\n",
       "      <td>total_play_time</td>\n",
       "      <td>0.038660</td>\n",
       "    </tr>\n",
       "    <tr>\n",
       "      <th>4</th>\n",
       "      <td>win5</td>\n",
       "      <td>0.036958</td>\n",
       "    </tr>\n",
       "    <tr>\n",
       "      <th>17</th>\n",
       "      <td>play_14d_ov_23d</td>\n",
       "      <td>0.032123</td>\n",
       "    </tr>\n",
       "    <tr>\n",
       "      <th>5</th>\n",
       "      <td>play_ratio</td>\n",
       "      <td>0.023950</td>\n",
       "    </tr>\n",
       "  </tbody>\n",
       "</table>\n",
       "</div>"
      ],
      "text/plain": [
       "                 feature     coeff\n",
       "18  days_since_last_play  0.130754\n",
       "1                   win2  0.105971\n",
       "14        play_3d_ov_23d  0.100510\n",
       "2                   win3  0.078286\n",
       "12         play_3d_ov_7d  0.073161\n",
       "7         total_play_day  0.071282\n",
       "13        play_3d_ov_14d  0.061780\n",
       "15        play_7d_ov_14d  0.059527\n",
       "3                   win4  0.053115\n",
       "16        play_7d_ov_23d  0.042164\n",
       "6        total_play_time  0.038660\n",
       "4                   win5  0.036958\n",
       "17       play_14d_ov_23d  0.032123\n",
       "5             play_ratio  0.023950"
      ]
     },
     "execution_count": 121,
     "metadata": {},
     "output_type": "execute_result"
    }
   ],
   "source": [
    "df_coeffs = pd.DataFrame(list(zip(df_dummies.columns, importance_coeff))).sort_values(by=[1], ascending=True)\n",
    "df_coeffs.columns = ['feature', 'coeff']\n",
    "df_coeffs.iloc[-1:-15:-1,:]"
   ]
  },
  {
   "cell_type": "code",
   "execution_count": 125,
   "metadata": {
    "collapsed": true
   },
   "outputs": [],
   "source": [
    "def print_results_rf(y_true, y_pred):\n",
    "    print(\"Accuracy of the Random Forest Classifier is: {}\".format(accuracy_score(y_true, y_pred)))\n",
    "    print(\"Precision of the Random Forest Classifier is: {}\".format(precision_score(y_true, y_pred)))\n",
    "    print(\"Recall of the Random Forest Classifier is: {}\".format(recall_score(y_true, y_pred)))\n",
    "    print(\"f1-score of the Random Forest Classifier is: {}\".format(f1_score(y_true, y_pred)))\n",
    "    print(\"roc_auc_score of the Random Forest Classifier is: {}\".format(roc_auc_score(y_true, y_pred)))"
   ]
  },
  {
   "cell_type": "code",
   "execution_count": 126,
   "metadata": {
    "collapsed": true
   },
   "outputs": [],
   "source": [
    "y_test_pred=model_rfc.predict(X_test)"
   ]
  },
  {
   "cell_type": "code",
   "execution_count": 127,
   "metadata": {
    "scrolled": true
   },
   "outputs": [
    {
     "name": "stdout",
     "output_type": "stream",
     "text": [
      "Test set scores:\n",
      "Accuracy of the Random Forest Classifier is: 0.766968622817\n",
      "Precision of the Random Forest Classifier is: 0.762522247648\n",
      "Recall of the Random Forest Classifier is: 0.780989583333\n",
      "f1-score of the Random Forest Classifier is: 0.771645439341\n",
      "roc_auc_score of the Random Forest Classifier is: 0.766851688675\n"
     ]
    }
   ],
   "source": [
    "print(\"Test set scores:\")\n",
    "print_results_rf(y_test, y_test_pred)"
   ]
  },
  {
   "cell_type": "code",
   "execution_count": null,
   "metadata": {
    "collapsed": true
   },
   "outputs": [],
   "source": []
  },
  {
   "cell_type": "code",
   "execution_count": null,
   "metadata": {
    "collapsed": true
   },
   "outputs": [],
   "source": []
  },
  {
   "cell_type": "code",
   "execution_count": 63,
   "metadata": {
    "collapsed": true
   },
   "outputs": [],
   "source": [
    "import matplotlib.pyplot as plt\n",
    "\n",
    "% matplotlib inline\n",
    "# Always make it pretty.\n",
    "plt.style.use('ggplot')"
   ]
  },
  {
   "cell_type": "code",
   "execution_count": 65,
   "metadata": {},
   "outputs": [
    {
     "data": {
      "image/png": "[encoded data removed]",
      "text/plain": [
       "<matplotlib.figure.Figure at 0x11d6986d0>"
      ]
     },
     "metadata": {},
     "output_type": "display_data"
    }
   ],
   "source": [
    "ax = df_coeffs.plot.barh()\n",
    "t = np.arange(X.shape[1])\n",
    "ax.set_yticks(t)\n",
    "ax.set_yticklabels(df_coeffs['feature'])\n",
    "plt.rcParams[\"figure.figsize\"] = (10,12)\n",
    "plt.show()"
   ]
  },
  {
   "cell_type": "markdown",
   "metadata": {},
   "source": [
    "## Logistic Regression "
   ]
  },
  {
   "cell_type": "code",
   "execution_count": 37,
   "metadata": {
    "collapsed": true
   },
   "outputs": [],
   "source": [
    "X_lr= df_dummies.values"
   ]
  },
  {
   "cell_type": "code",
   "execution_count": 38,
   "metadata": {
    "collapsed": true
   },
   "outputs": [],
   "source": [
    "X_train, X_test, y_train, y_test = train_test_split(X_lr, y, test_size=0.3, random_state=42)"
   ]
  },
  {
   "cell_type": "code",
   "execution_count": 39,
   "metadata": {
    "collapsed": true
   },
   "outputs": [],
   "source": [
    "from sklearn.linear_model import LogisticRegression\n",
    "\n",
    "model_lr = LogisticRegression(penalty = 'l2',C= 1, n_jobs = -1)"
   ]
  },
  {
   "cell_type": "code",
   "execution_count": 40,
   "metadata": {},
   "outputs": [
    {
     "data": {
      "text/plain": [
       "[[0.001, 0.74549853702453295, 0.75725351188131806],\n",
       " [0.01, 0.74606121989646634, 0.75830379414467641],\n",
       " [0.1, 0.74617375647085304, 0.75974793225679405],\n",
       " [1, 0.74589241503488635, 0.7600105028226336],\n",
       " [10, 0.74611748818365964, 0.75790993829591702],\n",
       " [100, 0.74668017105559303, 0.75830379414467641],\n",
       " [1000, 0.74594868332207964, 0.75830379414467641]]"
      ]
     },
     "execution_count": 40,
     "metadata": {},
     "output_type": "execute_result"
    }
   ],
   "source": [
    "accuracies = []\n",
    "#accuracies.columns = ['regularization','Accuracy_score_train','Accuracy_score_test']\n",
    "for c in [1e-3,1e-2,0.1,1,10,100,1000]:\n",
    "    model_lr = LogisticRegression(penalty = 'l2',C= c, n_jobs = -1)\n",
    "    model_lr.fit(X_train, y_train)\n",
    "    accuracies.append([c,model_lr.score(X_train, y_train), model_lr.score(X_test, y_test)])\n",
    "    \n",
    "accuracies"
   ]
  },
  {
   "cell_type": "code",
   "execution_count": 41,
   "metadata": {},
   "outputs": [
    {
     "data": {
      "text/plain": [
       "(0.74679270762997974, 0.75909150584219509)"
      ]
     },
     "execution_count": 41,
     "metadata": {},
     "output_type": "execute_result"
    }
   ],
   "source": [
    "model_lr = LogisticRegression(penalty = 'l1',C= 0.1, n_jobs = -1)\n",
    "model_lr.fit(X_train, y_train)\n",
    "model_lr.score(X_train, y_train), model_lr.score(X_test, y_test)"
   ]
  },
  {
   "cell_type": "code",
   "execution_count": 71,
   "metadata": {
    "collapsed": true
   },
   "outputs": [],
   "source": [
    "from sklearn.metrics import precision_score, accuracy_score, recall_score, f1_score, roc_auc_score"
   ]
  },
  {
   "cell_type": "code",
   "execution_count": 74,
   "metadata": {
    "collapsed": true
   },
   "outputs": [],
   "source": [
    "def print_results(y_true, y_pred):\n",
    "    print(\"Accuracy of the Logistic Regression is: {}\".format(accuracy_score(y_true, y_pred)))\n",
    "    print(\"Precision of the Logistic Regression is: {}\".format(precision_score(y_true, y_pred)))\n",
    "    print(\"Recall of the Logistic Regression is: {}\".format(recall_score(y_true, y_pred)))\n",
    "    print(\"f1-score of the Logistic Regression is: {}\".format(f1_score(y_true, y_pred)))\n",
    "    print(\"roc_auc_score of the Logistic Regression is: {}\".format(roc_auc_score(y_true, y_pred)))"
   ]
  },
  {
   "cell_type": "code",
   "execution_count": 75,
   "metadata": {
    "collapsed": true
   },
   "outputs": [],
   "source": [
    "y_test_pred=model_lr.predict(X_test)"
   ]
  },
  {
   "cell_type": "code",
   "execution_count": 107,
   "metadata": {
    "scrolled": true
   },
   "outputs": [
    {
     "name": "stdout",
     "output_type": "stream",
     "text": [
      "Test set scores:\n",
      "Accuracy of the Logistic Regression is: 0.759091505842\n",
      "Precision of the Logistic Regression is: 0.778085991678\n",
      "Recall of the Logistic Regression is: 0.73046875\n",
      "f1-score of the Logistic Regression is: 0.753525856279\n",
      "roc_auc_score of the Logistic Regression is: 0.759330218262\n"
     ]
    }
   ],
   "source": [
    "print(\"Test set scores:\")\n",
    "print_results(y_test, y_test_pred)"
   ]
  },
  {
   "cell_type": "code",
   "execution_count": null,
   "metadata": {
    "collapsed": true
   },
   "outputs": [],
   "source": []
  },
  {
   "cell_type": "code",
   "execution_count": 42,
   "metadata": {},
   "outputs": [
    {
     "data": {
      "text/plain": [
       "array([[ -1.57180856e-03,  -2.86338966e-03,  -3.03652762e-03,\n",
       "         -3.06844558e-04,   2.05057164e-04,   0.00000000e+00,\n",
       "          1.64926796e-07,  -6.97468976e-02,  -2.04977041e-01,\n",
       "          1.93925988e-01,   8.99137459e-03,   0.00000000e+00,\n",
       "          0.00000000e+00,   1.33472753e-01,   0.00000000e+00,\n",
       "          1.39480878e-01,  -1.27080955e-01,   0.00000000e+00,\n",
       "          1.98474576e-01,   1.37872842e-01,  -2.70121953e-01]])"
      ]
     },
     "execution_count": 42,
     "metadata": {},
     "output_type": "execute_result"
    }
   ],
   "source": [
    "model_lr.coef_"
   ]
  },
  {
   "cell_type": "code",
   "execution_count": 43,
   "metadata": {},
   "outputs": [
    {
     "data": {
      "text/plain": [
       "2"
      ]
     },
     "execution_count": 43,
     "metadata": {},
     "output_type": "execute_result"
    }
   ],
   "source": [
    "sum(abs(model_lr.coef_[0])>0.2)"
   ]
  },
  {
   "cell_type": "code",
   "execution_count": 44,
   "metadata": {},
   "outputs": [
    {
     "data": {
      "text/html": [
       "<div>\n",
       "<style>\n",
       "    .dataframe thead tr:only-child th {\n",
       "        text-align: right;\n",
       "    }\n",
       "\n",
       "    .dataframe thead th {\n",
       "        text-align: left;\n",
       "    }\n",
       "\n",
       "    .dataframe tbody tr th {\n",
       "        vertical-align: top;\n",
       "    }\n",
       "</style>\n",
       "<table border=\"1\" class=\"dataframe\">\n",
       "  <thead>\n",
       "    <tr style=\"text-align: right;\">\n",
       "      <th></th>\n",
       "      <th>feature</th>\n",
       "      <th>coeff</th>\n",
       "    </tr>\n",
       "  </thead>\n",
       "  <tbody>\n",
       "    <tr>\n",
       "      <th>18</th>\n",
       "      <td>days_since_last_play</td>\n",
       "      <td>1.984746e-01</td>\n",
       "    </tr>\n",
       "    <tr>\n",
       "      <th>9</th>\n",
       "      <td>play_1d_ov_7d</td>\n",
       "      <td>1.939260e-01</td>\n",
       "    </tr>\n",
       "    <tr>\n",
       "      <th>15</th>\n",
       "      <td>play_7d_ov_14d</td>\n",
       "      <td>1.394809e-01</td>\n",
       "    </tr>\n",
       "    <tr>\n",
       "      <th>19</th>\n",
       "      <td>device_ar</td>\n",
       "      <td>1.378728e-01</td>\n",
       "    </tr>\n",
       "    <tr>\n",
       "      <th>13</th>\n",
       "      <td>play_3d_ov_14d</td>\n",
       "      <td>1.334728e-01</td>\n",
       "    </tr>\n",
       "    <tr>\n",
       "      <th>10</th>\n",
       "      <td>play_1d_ov_14d</td>\n",
       "      <td>8.991375e-03</td>\n",
       "    </tr>\n",
       "    <tr>\n",
       "      <th>4</th>\n",
       "      <td>win5</td>\n",
       "      <td>2.050572e-04</td>\n",
       "    </tr>\n",
       "    <tr>\n",
       "      <th>6</th>\n",
       "      <td>total_play_time</td>\n",
       "      <td>1.649268e-07</td>\n",
       "    </tr>\n",
       "    <tr>\n",
       "      <th>17</th>\n",
       "      <td>play_14d_ov_23d</td>\n",
       "      <td>0.000000e+00</td>\n",
       "    </tr>\n",
       "    <tr>\n",
       "      <th>14</th>\n",
       "      <td>play_3d_ov_23d</td>\n",
       "      <td>0.000000e+00</td>\n",
       "    </tr>\n",
       "    <tr>\n",
       "      <th>12</th>\n",
       "      <td>play_3d_ov_7d</td>\n",
       "      <td>0.000000e+00</td>\n",
       "    </tr>\n",
       "    <tr>\n",
       "      <th>11</th>\n",
       "      <td>play_1d_ov_23d</td>\n",
       "      <td>0.000000e+00</td>\n",
       "    </tr>\n",
       "    <tr>\n",
       "      <th>5</th>\n",
       "      <td>play_ratio</td>\n",
       "      <td>0.000000e+00</td>\n",
       "    </tr>\n",
       "    <tr>\n",
       "      <th>3</th>\n",
       "      <td>win4</td>\n",
       "      <td>-3.068446e-04</td>\n",
       "    </tr>\n",
       "    <tr>\n",
       "      <th>0</th>\n",
       "      <td>win1</td>\n",
       "      <td>-1.571809e-03</td>\n",
       "    </tr>\n",
       "    <tr>\n",
       "      <th>1</th>\n",
       "      <td>win2</td>\n",
       "      <td>-2.863390e-03</td>\n",
       "    </tr>\n",
       "    <tr>\n",
       "      <th>2</th>\n",
       "      <td>win3</td>\n",
       "      <td>-3.036528e-03</td>\n",
       "    </tr>\n",
       "    <tr>\n",
       "      <th>7</th>\n",
       "      <td>total_play_day</td>\n",
       "      <td>-6.974690e-02</td>\n",
       "    </tr>\n",
       "    <tr>\n",
       "      <th>16</th>\n",
       "      <td>play_7d_ov_23d</td>\n",
       "      <td>-1.270810e-01</td>\n",
       "    </tr>\n",
       "    <tr>\n",
       "      <th>8</th>\n",
       "      <td>play_1d_ov_3d</td>\n",
       "      <td>-2.049770e-01</td>\n",
       "    </tr>\n",
       "    <tr>\n",
       "      <th>20</th>\n",
       "      <td>device_ip</td>\n",
       "      <td>-2.701220e-01</td>\n",
       "    </tr>\n",
       "  </tbody>\n",
       "</table>\n",
       "</div>"
      ],
      "text/plain": [
       "                 feature         coeff\n",
       "18  days_since_last_play  1.984746e-01\n",
       "9          play_1d_ov_7d  1.939260e-01\n",
       "15        play_7d_ov_14d  1.394809e-01\n",
       "19             device_ar  1.378728e-01\n",
       "13        play_3d_ov_14d  1.334728e-01\n",
       "10        play_1d_ov_14d  8.991375e-03\n",
       "4                   win5  2.050572e-04\n",
       "6        total_play_time  1.649268e-07\n",
       "17       play_14d_ov_23d  0.000000e+00\n",
       "14        play_3d_ov_23d  0.000000e+00\n",
       "12         play_3d_ov_7d  0.000000e+00\n",
       "11        play_1d_ov_23d  0.000000e+00\n",
       "5             play_ratio  0.000000e+00\n",
       "3                   win4 -3.068446e-04\n",
       "0                   win1 -1.571809e-03\n",
       "1                   win2 -2.863390e-03\n",
       "2                   win3 -3.036528e-03\n",
       "7         total_play_day -6.974690e-02\n",
       "16        play_7d_ov_23d -1.270810e-01\n",
       "8          play_1d_ov_3d -2.049770e-01\n",
       "20             device_ip -2.701220e-01"
      ]
     },
     "execution_count": 44,
     "metadata": {},
     "output_type": "execute_result"
    }
   ],
   "source": [
    "columns = list(df_dummies.columns)\n",
    "coeffs = model_lr.coef_[0]\n",
    "df_coeffs = pd.DataFrame(list(zip(columns, coeffs))).sort_values(by=[1], ascending=True)\n",
    "df_coeffs.columns = ['feature', 'coeff']\n",
    "df_coeffs.iloc[::-1,:]"
   ]
  },
  {
   "cell_type": "code",
   "execution_count": 45,
   "metadata": {},
   "outputs": [
    {
     "data": {
      "image/png": "[encoded data removed]",
      "text/plain": [
       "<matplotlib.figure.Figure at 0x11c588750>"
      ]
     },
     "metadata": {},
     "output_type": "display_data"
    }
   ],
   "source": [
    "ax = df_coeffs.plot.barh(color = 'b')\n",
    "t = np.arange(X_lr.shape[1])\n",
    "ax.set_yticks(t)\n",
    "ax.set_yticklabels(df_coeffs['feature'])\n",
    "plt.rcParams[\"figure.figsize\"] = (8,8)\n",
    "plt.show()"
   ]
  },
  {
   "cell_type": "code",
   "execution_count": null,
   "metadata": {
    "collapsed": true
   },
   "outputs": [],
   "source": []
  }
 ],
 "metadata": {
  "kernelspec": {
   "display_name": "Python 2",
   "language": "python",
   "name": "python2"
  },
  "language_info": {
   "codemirror_mode": {
    "name": "ipython",
    "version": 2
   },
   "file_extension": ".py",
   "mimetype": "text/x-python",
   "name": "python",
   "nbconvert_exporter": "python",
   "pygments_lexer": "ipython2",
   "version": "2.7.13"
  }
 },
 "nbformat": 4,
 "nbformat_minor": 2
}
